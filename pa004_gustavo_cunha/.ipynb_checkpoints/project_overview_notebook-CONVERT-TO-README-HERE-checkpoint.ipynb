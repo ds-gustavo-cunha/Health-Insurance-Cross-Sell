{
 "cells": [
  {
   "cell_type": "markdown",
   "id": "600a6454",
   "metadata": {
    "ExecuteTime": {
     "end_time": "2021-09-12T11:25:35.729069Z",
     "start_time": "2021-09-12T11:25:35.720256Z"
    }
   },
   "source": [
    "# BUSINESS UNDERSTANDING"
   ]
  },
  {
   "cell_type": "markdown",
   "id": "c0b28fd4",
   "metadata": {},
   "source": [
    "## What is the company?\n",
    "\n",
    "    Insurance All\n",
    "\n",
    "## What is its business model?\n",
    "\n",
    "    Insurance All is an insurance company that sells health insurance for its clients.\n",
    "\n",
    "## What is the business problem the company is facing?\n",
    "\n",
    "    Insurance All is a health insurance company and its products team is analyzing the possibility of offering a new product, automobile insurance, for its health insurance clients.\n",
    "\n",
    "    Similar to its health insurance, customers of this new insurance plan would have to pay an annual plan to be insured by Insurance All in case of an eventual car accident or damage.\n",
    "\n",
    "    Last year, Insurance All surveyed approximately 380.000 clients on their purchasing interests in this new automobile insurance. All clients in this survey had an 'interested' or 'not interested' response to this new car insurance product and every answer was stored in a database alongside other information from its clients.\n",
    "\n",
    "    The product team chose 127.000 new clients that didn't answer the last survey to be offered the new automobile insurance product. The products team will make these offers by phone call, however, they can make only 20.000 phone calls in the campaign.    \n",
    "\n",
    "\n",
    "## What business solutions this project has to deliver?\n",
    "\n",
    "    In this business context, you were as a data science consultant to build a model that predicts if a client would be (or would not be) interested in the automobile insurance product.\n",
    "    \n",
    "    With this model, the products team expects to prioritize clients that would be interested in the new product and so optimize sales campaigns by making phone calls just for the interested clients.\n",
    "    \n",
    "    As a final consultant product, you have to make a report with the following analyses:\n",
    "    \n",
    "        1. Top insights about the most relevant features of automobile insurance interested clients \n",
    "    \n",
    "        2. Making 20.000 phone calls, what percentage of interested clients the sales team will get in contact with?\n",
    "    \n",
    "        3. If the sales team expand its capacity to make 40.000 phone calls, what is the percentage of interested clients the sales team will get in contact with?\n",
    "    \n",
    "        4. How many phone calls do the sales team has to make in order to contact 80% of automobile insurance interested clients?"
   ]
  },
  {
   "cell_type": "markdown",
   "id": "7810f509",
   "metadata": {},
   "source": [
    "# BUSINESS ASSUMPTIONS"
   ]
  },
  {
   "cell_type": "markdown",
   "id": "584c86a6",
   "metadata": {
    "ExecuteTime": {
     "end_time": "2021-09-12T12:23:14.181261Z",
     "start_time": "2021-09-12T12:23:14.170278Z"
    }
   },
   "source": [
    "## HYPOTHESIS"
   ]
  },
  {
   "cell_type": "code",
   "execution_count": null,
   "id": "e550ce85",
   "metadata": {},
   "outputs": [],
   "source": [
    "Annual_Premium The amount customer needs to pay as premium in the year -> refers to the value of the health insurance not the automobile one"
   ]
  },
  {
   "cell_type": "markdown",
   "id": "c7823d7d",
   "metadata": {},
   "source": [
    "## OUTLIERS"
   ]
  },
  {
   "cell_type": "code",
   "execution_count": null,
   "id": "4c3d804d",
   "metadata": {},
   "outputs": [],
   "source": [
    "considered only 'annual_premium'] > 5000) &  'annual_premium'] < 100000)"
   ]
  },
  {
   "cell_type": "code",
   "execution_count": null,
   "id": "23ab95ec",
   "metadata": {},
   "outputs": [],
   "source": [
    "In the United States, the average car insurance cost is $1,674 per year for full coverage\n",
    "\n",
    "https://www.bankrate.com/insurance/car/average-cost-of-car-insurance/#methodology"
   ]
  },
  {
   "cell_type": "markdown",
   "id": "efe4191f",
   "metadata": {},
   "source": [
    "# SOLUTION STRATEGY"
   ]
  },
  {
   "cell_type": "markdown",
   "id": "dc70fd29",
   "metadata": {
    "heading_collapsed": true
   },
   "source": [
    "## PROJECT OVERVIEW\n",
    "\n",
    "    PROJECT DEPLOYMENT: \n",
    "        google sheets \n",
    "    \n",
    "    OUTPUT FORMAT: \n",
    "        spreadsheet with question-answer format;\n",
    "\n",
    "    PROCESS: \n",
    "        extract data from postgresql database;      \n",
    "        check and describe data;\n",
    "        map hypothesis;\n",
    "        feature engineering;\n",
    "        explore data (EDA);\n",
    "        prepare data for ML;\n",
    "        select features;\n",
    "        select and train ML classification models;\n",
    "        tune hyperparameters;\n",
    "        analyse the most important features for the model (related to first business question);\n",
    "        convert ML accuracy to automobile insurance new clients (remaining business questions);\n",
    "        deploy model to google sheets;\n",
    "\n",
    "    INPUT: \n",
    "        postgresql database with information about:\n",
    "            (1) health insurance clients information, and\n",
    "            (2) automobile insurance interest survey;\n",
    "    \n",
    "    TOOLS:\n",
    "        Python;\n",
    "        Postgresql;\n",
    "        Jupyter Notebook;\n",
    "        VS Code;\n",
    "        Google Sheets;"
   ]
  },
  {
   "cell_type": "markdown",
   "id": "a53c7d50",
   "metadata": {
    "heading_collapsed": true
   },
   "source": [
    "## FINAL REPORT STRATEGY\n",
    "\n",
    "### Question 'top insights about the most relevant features of automobile insurance interested clients':\n",
    "    - for every feature, calculate a summary of it:\n",
    "        - central tendency statistics\n",
    "        - dispersion statistics\n",
    "        - distplot with the given feature and the final output variable \n",
    "    - base on the summary statistics above, analyse the impact of every feature to the final output variable\n",
    "    - train a ML classification model and observe the most important features for this ML model\n",
    "    - analyse the ML and the summary statistics most important features: compare their similarities and their differences\n",
    "    - choose the most relevant features for automobile insurance interest;\n",
    "\n",
    "\n",
    "### Question 'making 20.000 phone calls, what percentage of interested clients the sales team will get in contact with?':\n",
    "    - given the final ML model and the number of calls from sales team, translate ML model accuracy to number of interested clients contacted.\n",
    "        - 'number of interested clients contacted'  = 'ML accuracy' * 20000\n",
    "        - 'total of interested clients' -> from survey (sum of the interested column)\n",
    "        - '% of total' = 'number of interested clients contacted' / 'total of interested clients'\n",
    "\n",
    "\n",
    "### Question 'if the sales team expand its capacity to make 40.000 phone calls, what is the percentage of interested clients the sales team will get in contact with?':\n",
    "    - given the final ML model and the number of calls from sales team, translate ML model accuracy to number of interested clients contacted.\n",
    "        - 'number of interested clients contacted'  = 'ML accuracy' * 40000\n",
    "        - 'total of interested clients' -> from survey (sum of the interested column)\n",
    "        - '% of total' = 'number of interested clients contacted' / 'total of interested clients'\n",
    "\n",
    "\n",
    "### Question 'how many phone calls do the sales team has to make in order to contact 80% of automobile insurance interested clients?':\n",
    "    - 'ML accuracy' -> given by final ML model\n",
    "    - 'total of interested clients' -> from survey (sum of the interested column)\n",
    "        - 'ML accuracy' * 'required phone calls' = 0.8 * 'total of interested clients'\n",
    "        - 'required phone calls' = ( 0.8 * 'total of interested clients' ) / ('ML accuracy') "
   ]
  },
  {
   "cell_type": "markdown",
   "id": "078e1448",
   "metadata": {
    "ExecuteTime": {
     "end_time": "2021-09-12T14:21:20.719312Z",
     "start_time": "2021-09-12T14:21:20.712210Z"
    }
   },
   "source": [
    "# MOST IMPORTANT INSIGHTS"
   ]
  },
  {
   "cell_type": "markdown",
   "id": "1872abb6",
   "metadata": {
    "ExecuteTime": {
     "end_time": "2021-09-12T14:24:15.553284Z",
     "start_time": "2021-09-12T14:24:15.538084Z"
    }
   },
   "source": [
    "# BUSINESS RESULTS"
   ]
  },
  {
   "cell_type": "markdown",
   "id": "7d599073",
   "metadata": {},
   "source": [
    "# CONCLUSIONS"
   ]
  },
  {
   "cell_type": "markdown",
   "id": "5ad3c818",
   "metadata": {},
   "source": [
    "# LESSONS LEARNED"
   ]
  },
  {
   "cell_type": "markdown",
   "id": "4fb05927",
   "metadata": {
    "ExecuteTime": {
     "end_time": "2021-09-12T14:24:47.190755Z",
     "start_time": "2021-09-12T14:24:47.180663Z"
    }
   },
   "source": [
    "# NEXT STEPS TO IMPROVE"
   ]
  }
 ],
 "metadata": {
  "kernelspec": {
   "display_name": "Python 3 (ipykernel)",
   "language": "python",
   "name": "python3"
  },
  "language_info": {
   "codemirror_mode": {
    "name": "ipython",
    "version": 3
   },
   "file_extension": ".py",
   "mimetype": "text/x-python",
   "name": "python",
   "nbconvert_exporter": "python",
   "pygments_lexer": "ipython3",
   "version": "3.8.8"
  },
  "toc": {
   "base_numbering": 1,
   "nav_menu": {},
   "number_sections": true,
   "sideBar": true,
   "skip_h1_title": false,
   "title_cell": "Table of Contents",
   "title_sidebar": "Contents",
   "toc_cell": false,
   "toc_position": {},
   "toc_section_display": true,
   "toc_window_display": false
  },
  "varInspector": {
   "cols": {
    "lenName": 16,
    "lenType": 16,
    "lenVar": 40
   },
   "kernels_config": {
    "python": {
     "delete_cmd_postfix": "",
     "delete_cmd_prefix": "del ",
     "library": "var_list.py",
     "varRefreshCmd": "print(var_dic_list())"
    },
    "r": {
     "delete_cmd_postfix": ") ",
     "delete_cmd_prefix": "rm(",
     "library": "var_list.r",
     "varRefreshCmd": "cat(var_dic_list()) "
    }
   },
   "types_to_exclude": [
    "module",
    "function",
    "builtin_function_or_method",
    "instance",
    "_Feature"
   ],
   "window_display": false
  }
 },
 "nbformat": 4,
 "nbformat_minor": 5
}
